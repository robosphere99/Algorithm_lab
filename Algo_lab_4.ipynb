{
 "cells": [
  {
   "cell_type": "markdown",
   "metadata": {},
   "source": [
    "# Lab 4: Inversion Problem"
   ]
  },
  {
   "cell_type": "markdown",
   "metadata": {},
   "source": [
    "##### Q1. Given an Array, find the number of inversions of it. If (i<j and A (i) >A (j)) then the pair (i, j) is called the inversion of the array. We need to count all such pairs of inversions of Array."
   ]
  },
  {
   "cell_type": "code",
   "execution_count": 8,
   "metadata": {},
   "outputs": [
    {
     "name": "stdout",
     "output_type": "stream",
     "text": [
      "Number of inversions are: 12\n"
     ]
    }
   ],
   "source": [
    "def merge_and_count(arr, temp_arr, left, right):\n",
    "    if left == right:\n",
    "        return 0\n",
    "\n",
    "    mid = (left + right) // 2\n",
    "\n",
    "    inv_count = merge_and_count(arr, temp_arr, left, mid)\n",
    "    inv_count += merge_and_count(arr, temp_arr, mid + 1, right)\n",
    "    inv_count += merge(arr, temp_arr, left, mid, right)\n",
    "\n",
    "    return inv_count\n",
    "\n",
    "def merge(arr, temp_arr, left, mid, right):\n",
    "    i = left    \n",
    "    j = mid + 1 \n",
    "    k = left    \n",
    "    inv_count = 0\n",
    "\n",
    "    while i <= mid and j <= right:\n",
    "        if arr[i] <= arr[j]:\n",
    "            temp_arr[k] = arr[i]\n",
    "            i += 1\n",
    "        else:\n",
    "            temp_arr[k] = arr[j]\n",
    "            inv_count += (mid-i + 1)\n",
    "            j += 1\n",
    "        k += 1\n",
    "\n",
    "    while i <= mid:\n",
    "        temp_arr[k] = arr[i]\n",
    "        i += 1\n",
    "        k += 1\n",
    "\n",
    "    while j <= right:\n",
    "        temp_arr[k] = arr[j]\n",
    "        j += 1\n",
    "        k += 1\n",
    "\n",
    "    for i in range(left, right + 1):\n",
    "        arr[i] = temp_arr[i]\n",
    "\n",
    "    return inv_count\n",
    "\n",
    "def count_inversions(arr):\n",
    "    temp_arr = [0] * len(arr)\n",
    "    return merge_and_count(arr, temp_arr, 0, len(arr) - 1)\n",
    "\n",
    "arr = [1, 20, 6, 4, 5, 11, 0]\n",
    "inversions = count_inversions(arr)\n",
    "print(\"Number of inversions are:\", inversions)\n"
   ]
  },
  {
   "cell_type": "markdown",
   "metadata": {},
   "source": [
    "# Q2. Counting Inversions based on the divide and conquer algorithm"
   ]
  },
  {
   "cell_type": "code",
   "execution_count": 7,
   "metadata": {},
   "outputs": [
    {
     "name": "stdout",
     "output_type": "stream",
     "text": [
      "Number of inversions are: 12\n"
     ]
    }
   ],
   "source": [
    "def merge_and_count(arr, temp_arr, left, mid, right):\n",
    "    i = left    \n",
    "    j = mid + 1 \n",
    "    k = left    \n",
    "    inv_count = 0\n",
    "\n",
    "    while i <= mid and j <= right:\n",
    "        if arr[i] <= arr[j]:\n",
    "            temp_arr[k] = arr[i]\n",
    "            i += 1\n",
    "        else:\n",
    "            temp_arr[k] = arr[j]\n",
    "            inv_count += (mid-i + 1)\n",
    "            j += 1\n",
    "        k += 1\n",
    "\n",
    "    while i <= mid:\n",
    "        temp_arr[k] = arr[i]\n",
    "        i += 1\n",
    "        k += 1\n",
    "\n",
    "    while j <= right:\n",
    "        temp_arr[k] = arr[j]\n",
    "        j += 1\n",
    "        k += 1\n",
    "\n",
    "    for i in range(left, right + 1):\n",
    "        arr[i] = temp_arr[i]\n",
    "        \n",
    "    return inv_count\n",
    "\n",
    "def merge_sort_and_count(arr, temp_arr, left, right):\n",
    "    inv_count = 0\n",
    "    if left < right:\n",
    "        mid = (left + right)//2\n",
    "\n",
    "        inv_count += merge_sort_and_count(arr, temp_arr, left, mid)\n",
    "        inv_count += merge_sort_and_count(arr, temp_arr, mid + 1, right)\n",
    "        inv_count += merge_and_count(arr, temp_arr, left, mid, right)\n",
    "\n",
    "    return inv_count\n",
    "\n",
    "def count_inversions(arr):\n",
    "    temp_arr = [0]*len(arr)\n",
    "    return merge_sort_and_count(arr, temp_arr, 0, len(arr) - 1)\n",
    "arr = [1, 20, 6, 4, 5, 11, 0]\n",
    "inversions = count_inversions(arr)\n",
    "print(\"Number of inversions are:\", inversions)"
   ]
  },
  {
   "cell_type": "code",
   "execution_count": null,
   "metadata": {},
   "outputs": [],
   "source": []
  }
 ],
 "metadata": {
  "kernelspec": {
   "display_name": "Python 3",
   "language": "python",
   "name": "python3"
  },
  "language_info": {
   "codemirror_mode": {
    "name": "ipython",
    "version": 3
   },
   "file_extension": ".py",
   "mimetype": "text/x-python",
   "name": "python",
   "nbconvert_exporter": "python",
   "pygments_lexer": "ipython3",
   "version": "3.12.6"
  }
 },
 "nbformat": 4,
 "nbformat_minor": 2
}
