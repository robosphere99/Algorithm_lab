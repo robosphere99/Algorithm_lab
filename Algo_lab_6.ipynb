{
 "cells": [
  {
   "cell_type": "markdown",
   "metadata": {},
   "source": [
    "1. Counting sort is a sorting technique based on keys between a specific range. It works by counting the\n",
    "number of objects having distinct key values (kind of hashing). Then doing some arithmetic to\n",
    "calculate the position of each object in the output sequence."
   ]
  },
  {
   "cell_type": "code",
   "execution_count": 1,
   "metadata": {},
   "outputs": [
    {
     "name": "stdout",
     "output_type": "stream",
     "text": [
      "Original array: [4, 2, -2, 8, 3, 3, 1]\n",
      "Sorted array: [-2, 1, 2, 3, 3, 4, 8]\n"
     ]
    }
   ],
   "source": [
    "def counting_sort(arr):\n",
    "    # Step 1: Find the maximum and minimum element in the array\n",
    "    max_val = max(arr)\n",
    "    min_val = min(arr)\n",
    "    \n",
    "    # Step 2: Create a count array with the size of the range (max - min + 1)\n",
    "    range_of_elements = max_val - min_val + 1\n",
    "    count_arr = [0] * range_of_elements\n",
    "    output_arr = [0] * len(arr)\n",
    "    \n",
    "    # Step 3: Count the occurrences of each element\n",
    "    for num in arr:\n",
    "        count_arr[num - min_val] += 1\n",
    "    \n",
    "    # Step 4: Modify count array to get the positions of elements\n",
    "    for i in range(1, len(count_arr)):\n",
    "        count_arr[i] += count_arr[i - 1]\n",
    "    \n",
    "    # Step 5: Build the output array using the count array\n",
    "    for num in reversed(arr):\n",
    "        output_arr[count_arr[num - min_val] - 1] = num\n",
    "        count_arr[num - min_val] -= 1\n",
    "    \n",
    "    # Step 6: Copy the sorted output array back into the original array\n",
    "    for i in range(len(arr)):\n",
    "        arr[i] = output_arr[i]\n",
    "\n",
    "# Example usage:\n",
    "arr = [4, 2, -2, 8, 3, 3, 1]\n",
    "print(\"Original array:\", arr)\n",
    "counting_sort(arr)\n",
    "print(\"Sorted array:\", arr)\n"
   ]
  },
  {
   "cell_type": "markdown",
   "metadata": {},
   "source": [
    "2. Radix Sort\n",
    "\n",
    "    Algorithm:\n",
    "    \n",
    "        For each digit i where i varies from the least significant digit to the most significant digit of a number Sort input array using countsort algorithm according to ith digit."
   ]
  },
  {
   "cell_type": "code",
   "execution_count": 2,
   "metadata": {},
   "outputs": [
    {
     "name": "stdout",
     "output_type": "stream",
     "text": [
      "Original array: [170, 45, 75, 90, 802, 24, 2, 66]\n",
      "Sorted array: [2, 24, 45, 66, 75, 90, 170, 802]\n"
     ]
    }
   ],
   "source": [
    "# A function to do counting sort based on a specific digit (exp is 10^i where i is the digit's place)\n",
    "def counting_sort_for_radix(arr, exp):\n",
    "    n = len(arr)\n",
    "    \n",
    "    output = [0] * n  # Output array\n",
    "    count = [0] * 10  # Since digits range from 0 to 9\n",
    "\n",
    "    # Step 1: Count occurrences of digits in exp place\n",
    "    for i in range(n):\n",
    "        index = arr[i] // exp\n",
    "        count[index % 10] += 1\n",
    "\n",
    "    # Step 2: Modify count array to hold the position of this digit\n",
    "    for i in range(1, 10):\n",
    "        count[i] += count[i - 1]\n",
    "\n",
    "    # Step 3: Build the output array based on the current digit\n",
    "    for i in range(n - 1, -1, -1):\n",
    "        index = arr[i] // exp\n",
    "        output[count[index % 10] - 1] = arr[i]\n",
    "        count[index % 10] -= 1\n",
    "\n",
    "    # Step 4: Copy the output array to arr, so that arr contains sorted numbers based on current digit\n",
    "    for i in range(n):\n",
    "        arr[i] = output[i]\n",
    "\n",
    "# Main function to implement Radix Sort\n",
    "def radix_sort(arr):\n",
    "    # Step 1: Find the maximum number to know the number of digits\n",
    "    max_val = max(arr)\n",
    "\n",
    "    # Step 2: Apply counting sort for every digit\n",
    "    exp = 1\n",
    "    while max_val // exp > 0:\n",
    "        counting_sort_for_radix(arr, exp)\n",
    "        exp *= 10\n",
    "\n",
    "# Example usage:\n",
    "arr = [170, 45, 75, 90, 802, 24, 2, 66]\n",
    "print(\"Original array:\", arr)\n",
    "radix_sort(arr)\n",
    "print(\"Sorted array:\", arr)\n"
   ]
  },
  {
   "cell_type": "markdown",
   "metadata": {},
   "source": [
    "3.Bucket Sort \n",
    "\n",
    "You have been given an array A of size N. The array contains integers. You need to divide the elements of this array into buckets on the basis of the number of set bits in its binary representation. You need to then print  he content of each bucket in a new line.The buckets should appear in the output in ascending order, i.e the bucket that stands for lesser number of set bits should appear before any other bucket which stands for higher number of set bits.The elements of each bucket should appear in ascending order too. That is if 2 integers appear in the same bucket, the one with the lower value should appear in the bucket list before the one with higher value."
   ]
  },
  {
   "cell_type": "code",
   "execution_count": 3,
   "metadata": {},
   "outputs": [
    {
     "name": "stdout",
     "output_type": "stream",
     "text": [
      "Original array: [5, 8, 3, 7, 6, 2, 9, 1]\n",
      "Sorted by set bits: [1, 2, 8, 3, 5, 6, 9, 7]\n"
     ]
    }
   ],
   "source": [
    "def count_set_bits(n):\n",
    "    return bin(n).count('1')\n",
    "def bucket_sort_by_set_bits(arr):\n",
    "\n",
    "    # Step 1: Create a bucket for each set bit\n",
    "    \n",
    "    buckets = {}\n",
    "    \n",
    "    for num in arr:\n",
    "        set_bits = count_set_bits(num)\n",
    "        if set_bits not in buckets:\n",
    "            buckets[set_bits] = []\n",
    "        buckets[set_bits].append(num)\n",
    "\n",
    "    # Step 2: Sort individual buckets and then combine\n",
    "    sorted_arr = []\n",
    "    for set_bits in sorted(buckets.keys()):\n",
    "        buckets[set_bits].sort()  # Sort each bucket\n",
    "        sorted_arr.extend(buckets[set_bits])  # Combine the sorted buckets\n",
    "\n",
    "    return sorted_arr\n",
    "\n",
    "# Example usage:\n",
    "arr = [5, 8, 3, 7, 6, 2, 9, 1]\n",
    "print(\"Original array:\", arr)\n",
    "sorted_arr = bucket_sort_by_set_bits(arr)\n",
    "print(\"Sorted by set bits:\", sorted_arr)\n"
   ]
  },
  {
   "cell_type": "code",
   "execution_count": null,
   "metadata": {},
   "outputs": [],
   "source": []
  }
 ],
 "metadata": {
  "kernelspec": {
   "display_name": "Python 3",
   "language": "python",
   "name": "python3"
  },
  "language_info": {
   "codemirror_mode": {
    "name": "ipython",
    "version": 3
   },
   "file_extension": ".py",
   "mimetype": "text/x-python",
   "name": "python",
   "nbconvert_exporter": "python",
   "pygments_lexer": "ipython3",
   "version": "3.12.6"
  }
 },
 "nbformat": 4,
 "nbformat_minor": 2
}
